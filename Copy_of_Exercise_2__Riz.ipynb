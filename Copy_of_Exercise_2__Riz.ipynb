{
  "nbformat": 4,
  "nbformat_minor": 0,
  "metadata": {
    "kernelspec": {
      "display_name": "Python 3",
      "language": "python",
      "name": "python3"
    },
    "language_info": {
      "codemirror_mode": {
        "name": "ipython",
        "version": 3
      },
      "file_extension": ".py",
      "mimetype": "text/x-python",
      "name": "python",
      "nbconvert_exporter": "python",
      "pygments_lexer": "ipython3",
      "version": "3.6.5"
    },
    "colab": {
      "name": "Copy of Exercise_2 _Riz.ipynb",
      "provenance": [],
      "include_colab_link": true
    }
  },
  "cells": [
    {
      "cell_type": "markdown",
      "metadata": {
        "id": "view-in-github",
        "colab_type": "text"
      },
      "source": [
        "<a href=\"https://colab.research.google.com/github/riz2222/IADS_SC/blob/main/Copy_of_Exercise_2__Riz.ipynb\" target=\"_parent\"><img src=\"https://colab.research.google.com/assets/colab-badge.svg\" alt=\"Open In Colab\"/></a>"
      ]
    },
    {
      "cell_type": "markdown",
      "metadata": {
        "id": "cWwlaV5cHey3"
      },
      "source": [
        "### Variables\n",
        "A name that is used to denote something or a value is called a variable. In python, variables can be declared and values can be assigned to it as follows,"
      ]
    },
    {
      "cell_type": "code",
      "metadata": {
        "id": "X2tuLpgoHey4"
      },
      "source": [
        "\n",
        "x = 2\n",
        "y = 5\n",
        "xy = 'Hello'"
      ],
      "execution_count": null,
      "outputs": []
    },
    {
      "cell_type": "code",
      "metadata": {
        "id": "NYILo2YiHey5",
        "colab": {
          "base_uri": "https://localhost:8080/"
        },
        "outputId": "29c0c2cb-0114-47d5-eedb-2a8d6a296411"
      },
      "source": [
        "print(x+y, xy)"
      ],
      "execution_count": null,
      "outputs": [
        {
          "output_type": "stream",
          "text": [
            "7 Hello\n"
          ],
          "name": "stdout"
        }
      ]
    },
    {
      "cell_type": "code",
      "metadata": {
        "id": "BI4anghWHey6",
        "colab": {
          "base_uri": "https://localhost:8080/"
        },
        "outputId": "8e1a43a6-24e7-4af7-8e39-df13b3376721"
      },
      "source": [
        "# Multiple variables can be assigned with the same value\n",
        "\n",
        "x = y = 1\n",
        "\n",
        "print(x,y)"
      ],
      "execution_count": null,
      "outputs": [
        {
          "output_type": "stream",
          "text": [
            "1 1\n"
          ],
          "name": "stdout"
        }
      ]
    },
    {
      "cell_type": "markdown",
      "metadata": {
        "id": "sGG8ArhZHey6"
      },
      "source": [
        "### Operators\n",
        "\n",
        "#### Arithmetic Operators\n",
        "\n",
        "| Symbol | Task Performed |\n",
        "|----|---|\n",
        "| +  | Addition |\n",
        "| -  | Subtraction |\n",
        "| /  | division |\n",
        "| %  | mod |\n",
        "| *  | multiplication |\n",
        "| //  | floor division |\n",
        "| **  | to the power of |"
      ]
    },
    {
      "cell_type": "code",
      "metadata": {
        "id": "6-wbCWEJHey7",
        "colab": {
          "base_uri": "https://localhost:8080/"
        },
        "outputId": "7b17ce22-4a63-4850-f30c-10c9271c8511"
      },
      "source": [
        "1+2"
      ],
      "execution_count": null,
      "outputs": [
        {
          "output_type": "execute_result",
          "data": {
            "text/plain": [
              "3"
            ]
          },
          "metadata": {
            "tags": []
          },
          "execution_count": 30
        }
      ]
    },
    {
      "cell_type": "code",
      "metadata": {
        "id": "ThLzLxExHey7",
        "colab": {
          "base_uri": "https://localhost:8080/"
        },
        "outputId": "be784173-05ae-47e8-837c-cf7341b547dd"
      },
      "source": [
        "2-1"
      ],
      "execution_count": null,
      "outputs": [
        {
          "output_type": "execute_result",
          "data": {
            "text/plain": [
              "1"
            ]
          },
          "metadata": {
            "tags": []
          },
          "execution_count": 29
        }
      ]
    },
    {
      "cell_type": "code",
      "metadata": {
        "id": "IkhCStFYHey7",
        "colab": {
          "base_uri": "https://localhost:8080/"
        },
        "outputId": "db9a3618-dbe2-49cb-b7b0-7a78370fadae"
      },
      "source": [
        "1*2"
      ],
      "execution_count": null,
      "outputs": [
        {
          "output_type": "execute_result",
          "data": {
            "text/plain": [
              "2"
            ]
          },
          "metadata": {
            "tags": []
          },
          "execution_count": 28
        }
      ]
    },
    {
      "cell_type": "code",
      "metadata": {
        "id": "FILL-bHDHey8",
        "colab": {
          "base_uri": "https://localhost:8080/"
        },
        "outputId": "3eb73b03-d1f0-4683-d0fe-91af3df99f3b"
      },
      "source": [
        "1/2"
      ],
      "execution_count": null,
      "outputs": [
        {
          "output_type": "execute_result",
          "data": {
            "text/plain": [
              "0.5"
            ]
          },
          "metadata": {
            "tags": []
          },
          "execution_count": 27
        }
      ]
    },
    {
      "cell_type": "code",
      "metadata": {
        "id": "EGAkuQ58Hey8",
        "colab": {
          "base_uri": "https://localhost:8080/"
        },
        "outputId": "1e6edb3b-940a-48a4-b85c-87261a37c6e0"
      },
      "source": [
        "15%10"
      ],
      "execution_count": null,
      "outputs": [
        {
          "output_type": "execute_result",
          "data": {
            "text/plain": [
              "5"
            ]
          },
          "metadata": {
            "tags": []
          },
          "execution_count": 26
        }
      ]
    },
    {
      "cell_type": "code",
      "metadata": {
        "id": "xpO9xdgyHey8",
        "colab": {
          "base_uri": "https://localhost:8080/"
        },
        "outputId": "feeed86d-5106-4fa3-95ca-8d9d509f8fb0"
      },
      "source": [
        "#Floor division is nothing but converting the result so obtained to the nearest integer.\n",
        "2.8//2.0"
      ],
      "execution_count": null,
      "outputs": [
        {
          "output_type": "execute_result",
          "data": {
            "text/plain": [
              "1.0"
            ]
          },
          "metadata": {
            "tags": []
          },
          "execution_count": 25
        }
      ]
    },
    {
      "cell_type": "markdown",
      "metadata": {
        "id": "N4mnMEp0Hey8"
      },
      "source": [
        "## Relational Operators\n",
        "| Symbol | Task Performed |\n",
        "|----|---|\n",
        "| == | True, if it is equal |\n",
        "| !=  | True, if not equal to |\n",
        "| < | less than |\n",
        "| > | greater than |\n",
        "| <=  | less than or equal to |\n",
        "| >=  | greater than or equal to |"
      ]
    },
    {
      "cell_type": "code",
      "metadata": {
        "id": "JExkowyRHey9"
      },
      "source": [
        "z = 1"
      ],
      "execution_count": null,
      "outputs": []
    },
    {
      "cell_type": "code",
      "metadata": {
        "id": "2Kzl2rv4Hey9",
        "colab": {
          "base_uri": "https://localhost:8080/"
        },
        "outputId": "7ddca877-7d1b-4c08-a5c4-cf81f69e7f4a"
      },
      "source": [
        "z == 1"
      ],
      "execution_count": null,
      "outputs": [
        {
          "output_type": "execute_result",
          "data": {
            "text/plain": [
              "True"
            ]
          },
          "metadata": {
            "tags": []
          },
          "execution_count": 5
        }
      ]
    },
    {
      "cell_type": "code",
      "metadata": {
        "id": "7gi06LjlHey9",
        "colab": {
          "base_uri": "https://localhost:8080/"
        },
        "outputId": "1eb2e5fc-bbe5-4238-a522-c02566e54c1e"
      },
      "source": [
        "z > 1"
      ],
      "execution_count": null,
      "outputs": [
        {
          "output_type": "execute_result",
          "data": {
            "text/plain": [
              "False"
            ]
          },
          "metadata": {
            "tags": []
          },
          "execution_count": 24
        }
      ]
    },
    {
      "cell_type": "code",
      "metadata": {
        "id": "qTOszABhHey-",
        "colab": {
          "base_uri": "https://localhost:8080/"
        },
        "outputId": "5c40b37a-90c4-435d-d9c6-695ffcf8ec4c"
      },
      "source": [
        "print(round(5.6231))\n",
        "print(round(4.55892, 2))"
      ],
      "execution_count": null,
      "outputs": [
        {
          "output_type": "stream",
          "text": [
            "6\n",
            "4.56\n"
          ],
          "name": "stdout"
        }
      ]
    },
    {
      "cell_type": "code",
      "metadata": {
        "id": "egj5qSNfHey-",
        "colab": {
          "base_uri": "https://localhost:8080/"
        },
        "outputId": "75e7f404-4fde-4926-d34e-a672628f9341"
      },
      "source": [
        "divmod(9,4)"
      ],
      "execution_count": null,
      "outputs": [
        {
          "output_type": "execute_result",
          "data": {
            "text/plain": [
              "(2, 1)"
            ]
          },
          "metadata": {
            "tags": []
          },
          "execution_count": 22
        }
      ]
    },
    {
      "cell_type": "code",
      "metadata": {
        "id": "S3uYKp0gHey-",
        "colab": {
          "base_uri": "https://localhost:8080/"
        },
        "outputId": "0d465648-9473-48f7-f079-d0b8bf977208"
      },
      "source": [
        "pow(3,3)"
      ],
      "execution_count": null,
      "outputs": [
        {
          "output_type": "execute_result",
          "data": {
            "text/plain": [
              "27"
            ]
          },
          "metadata": {
            "tags": []
          },
          "execution_count": 6
        }
      ]
    },
    {
      "cell_type": "markdown",
      "metadata": {
        "id": "e0lPv506Hey-"
      },
      "source": [
        "## Print\n",
        "\n",
        "\n",
        "In Python, single, double and triple quotes are used to denote a string. Most use single quotes when declaring a single character. Double quotes when declaring a line and triple quotes when declaring a paragraph/multiple lines."
      ]
    },
    {
      "cell_type": "code",
      "metadata": {
        "id": "awSQ04seHey-",
        "outputId": "6dc6306b-ca6c-48fb-fd2a-cb322c7ae573"
      },
      "source": [
        "print('H')"
      ],
      "execution_count": null,
      "outputs": [
        {
          "output_type": "stream",
          "text": [
            "H\n"
          ],
          "name": "stdout"
        }
      ]
    },
    {
      "cell_type": "code",
      "metadata": {
        "id": "Tpui8PXzHey_",
        "outputId": "3c92e838-48b9-4a15-864c-e7ceddcd28dd"
      },
      "source": [
        "print(\"Hello World\")"
      ],
      "execution_count": null,
      "outputs": [
        {
          "output_type": "stream",
          "text": [
            "Hello World\n"
          ],
          "name": "stdout"
        }
      ]
    },
    {
      "cell_type": "code",
      "metadata": {
        "id": "NvTicvWOHey_",
        "colab": {
          "base_uri": "https://localhost:8080/"
        },
        "outputId": "36d155be-915f-485a-b1f8-7d7e2905ea46"
      },
      "source": [
        "print(\"\"\"I am from Essex.\n",
        "I love Python.\"\"\")"
      ],
      "execution_count": null,
      "outputs": [
        {
          "output_type": "stream",
          "text": [
            "I am from Essex.\n",
            "I love Python.\n"
          ],
          "name": "stdout"
        }
      ]
    },
    {
      "cell_type": "code",
      "metadata": {
        "id": "cG6FKwn0Hey_",
        "colab": {
          "base_uri": "https://localhost:8080/"
        },
        "outputId": "0b3ca963-e329-455a-f3ce-d68d200de1a5"
      },
      "source": [
        "string1 = \"World\"\n",
        "print(\"Hello\", string1)"
      ],
      "execution_count": null,
      "outputs": [
        {
          "output_type": "stream",
          "text": [
            "Hello World\n"
          ],
          "name": "stdout"
        }
      ]
    },
    {
      "cell_type": "code",
      "metadata": {
        "id": "AEJwrsrLHezA",
        "colab": {
          "base_uri": "https://localhost:8080/"
        },
        "outputId": "ee44e214-7893-426c-d4b1-60b983f03896"
      },
      "source": [
        "string2 = '!'\n",
        "print(\"Hello\", string1, string2)"
      ],
      "execution_count": null,
      "outputs": [
        {
          "output_type": "stream",
          "text": [
            "Hello World !\n"
          ],
          "name": "stdout"
        }
      ]
    },
    {
      "cell_type": "code",
      "metadata": {
        "id": "NtLNDD0EHezA",
        "colab": {
          "base_uri": "https://localhost:8080/"
        },
        "outputId": "bce870e2-572f-4416-af7e-93d98e206e4e"
      },
      "source": [
        "print(\"Hello\" + string1 + string2)"
      ],
      "execution_count": null,
      "outputs": [
        {
          "output_type": "stream",
          "text": [
            "HelloWorld!\n"
          ],
          "name": "stdout"
        }
      ]
    },
    {
      "cell_type": "code",
      "metadata": {
        "id": "xL047F7qHezA",
        "colab": {
          "base_uri": "https://localhost:8080/"
        },
        "outputId": "b2676c2c-0825-4708-a3f2-936fcdb9d819"
      },
      "source": [
        "print(\"Hello %s\" % string1)"
      ],
      "execution_count": null,
      "outputs": [
        {
          "output_type": "stream",
          "text": [
            "Hello World\n"
          ],
          "name": "stdout"
        }
      ]
    },
    {
      "cell_type": "code",
      "metadata": {
        "id": "jpz-UfI7HezA",
        "colab": {
          "base_uri": "https://localhost:8080/"
        },
        "outputId": "0d2848d2-8694-486f-9e1b-c46a523ef1b9"
      },
      "source": [
        "print(\"Actual Number = %d\" %19)\n",
        "print(\"Float of the number = %2f\" %19)"
      ],
      "execution_count": null,
      "outputs": [
        {
          "output_type": "stream",
          "text": [
            "Actual Number = 19\n",
            "Float of the number = 19.000000\n"
          ],
          "name": "stdout"
        }
      ]
    },
    {
      "cell_type": "code",
      "metadata": {
        "id": "1lU4rsAuHezA",
        "colab": {
          "base_uri": "https://localhost:8080/"
        },
        "outputId": "ea289232-9ed9-4d72-cd37-ea6d69eb7b15"
      },
      "source": [
        "print(\"Hello %s %s\" %(string1,string2))"
      ],
      "execution_count": null,
      "outputs": [
        {
          "output_type": "stream",
          "text": [
            "Hello World !\n"
          ],
          "name": "stdout"
        }
      ]
    }
  ]
}